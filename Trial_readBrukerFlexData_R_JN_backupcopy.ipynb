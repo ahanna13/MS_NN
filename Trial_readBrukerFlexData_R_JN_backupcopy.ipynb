{
  "nbformat": 4,
  "nbformat_minor": 0,
  "metadata": {
    "colab": {
      "provenance": [],
      "authorship_tag": "ABX9TyNMMtWlxjOcAL1CqbNPr2k2",
      "include_colab_link": true
    },
    "kernelspec": {
      "name": "python3",
      "display_name": "Python 3"
    },
    "language_info": {
      "name": "python"
    }
  },
  "cells": [
    {
      "cell_type": "markdown",
      "metadata": {
        "id": "view-in-github",
        "colab_type": "text"
      },
      "source": [
        "<a href=\"https://colab.research.google.com/github/ahanna13/MS_NN/blob/main/Trial_readBrukerFlexData_R_JN_backupcopy.ipynb\" target=\"_parent\"><img src=\"https://colab.research.google.com/assets/colab-badge.svg\" alt=\"Open In Colab\"/></a>"
      ]
    },
    {
      "cell_type": "markdown",
      "source": [
        "# I made a copy of this jupyter notebook in colab to be able to push to github to have as a backup when I convert my desktop to lenux tomorrow. I am wiping the computer completely so I need backups."
      ],
      "metadata": {
        "id": "Q_Jc_npxpztt"
      }
    },
    {
      "cell_type": "code",
      "execution_count": null,
      "metadata": {
        "id": "v4lwvHEdoSME"
      },
      "outputs": [],
      "source": [
        "# install.packages(\"readBrukerFlexData\")"
      ]
    },
    {
      "cell_type": "markdown",
      "source": [
        "First run this to load the readBrukerFlexData library"
      ],
      "metadata": {
        "id": "DTNDUarwoYZg"
      }
    },
    {
      "cell_type": "code",
      "source": [
        "library(readBrukerFlexData)"
      ],
      "metadata": {
        "id": "69kfQbpUoXRa"
      },
      "execution_count": null,
      "outputs": []
    },
    {
      "cell_type": "code",
      "source": [
        "x <- readBrukerFlexFile(\"C:\\\\Users\\\\Ashley Hanna\\\\Desktop\\\\Data\\\\RKI_V4_1\\\\Database_OG\\\\Achromobacter\\\\Achromobacter xylosoxidans\\\\Achromobacter xylosoxidans Ax 247 06\\\\Messung 1\\\\0_E5\\\\1\\\\1SLin\\\\fid\")"
      ],
      "metadata": {
        "id": "5fwaHPRvoa8I"
      },
      "execution_count": null,
      "outputs": []
    },
    {
      "cell_type": "code",
      "source": [
        "# this works in matlab to make a single \\ in between each, but I need \\\\\n",
        "# iofun_dir = ['toolbox' filesep 'matlab' filesep 'iofun']\n",
        "\n",
        "#OMG this works\n",
        "# a = '\\path\\to\\folder'\n",
        "# a(strfind(a, '\\')) = '/'\n",
        "#JK it doesnt with an actual file path\n",
        "\n",
        "#BUT THIS DOES\n",
        "#c = regexprep(c,\"\\\",\"\\\\\\\");"
      ],
      "metadata": {
        "id": "dovD0xg7ocXp"
      },
      "execution_count": null,
      "outputs": []
    },
    {
      "cell_type": "code",
      "source": [
        "head(x)"
      ],
      "metadata": {
        "id": "sg1cLuc2odVj"
      },
      "execution_count": null,
      "outputs": []
    },
    {
      "cell_type": "code",
      "source": [
        "# To organize the masses and intensities into a dataframe called y\n",
        "y <- data.frame(Mass=x$spectrum$mass, Intensity=x$spectrum$intensity)"
      ],
      "metadata": {
        "id": "z-4JywYnoel6"
      },
      "execution_count": null,
      "outputs": []
    },
    {
      "cell_type": "code",
      "source": [
        "head(y)"
      ],
      "metadata": {
        "id": "18tFf1t5ofto"
      },
      "execution_count": null,
      "outputs": []
    },
    {
      "cell_type": "code",
      "source": [
        "tail(y)"
      ],
      "metadata": {
        "id": "5m9SR-Vuogo8"
      },
      "execution_count": null,
      "outputs": []
    },
    {
      "cell_type": "code",
      "source": [
        "# This is where I am starting code to iterate through the txt file of filepaths"
      ],
      "metadata": {
        "id": "On0ITZBzohwE"
      },
      "execution_count": null,
      "outputs": []
    },
    {
      "cell_type": "code",
      "source": [
        "getwd()"
      ],
      "metadata": {
        "id": "dN85akzioiuS"
      },
      "execution_count": null,
      "outputs": []
    },
    {
      "cell_type": "code",
      "source": [
        "# file path to the txt file is C:\\Users\\Ashley Hanna\\Desktop\\Data\\RKI_V4_1_Dataset_Extraction_GH\\RKI_V4_1_analyses_filepaths.txt\n",
        "# adding the extra slashes manually\n",
        "# C:\\\\Users\\\\Ashley Hanna\\\\Desktop\\\\Data\\\\RKI_V4_1_Dataset_Extraction_GH\\\\RKI_V4_1_analyses_filepaths.txt\n",
        "\n",
        "# data <- read.table(\"C:\\\\Users\\\\Ashley Hanna\\\\Desktop\\\\Data\\\\RKI_V4_1_Dataset_Extraction_GH\\\\RKI_V4_1_analyses_filepaths.txt\", delim = \"\\t\")\n",
        "data <- read.table(\"C:\\\\Users\\\\Ashley Hanna\\\\Desktop\\\\Data\\\\RKI_V4_1_Dataset_Extraction_GH\\\\RKI_V4_1_analyses_filepaths.txt\", sep = \"\\t\")"
      ],
      "metadata": {
        "id": "xwcjsm3-ojtV"
      },
      "execution_count": null,
      "outputs": []
    },
    {
      "cell_type": "code",
      "source": [
        "head(data)"
      ],
      "metadata": {
        "id": "jlpTuB1PokuI"
      },
      "execution_count": null,
      "outputs": []
    },
    {
      "cell_type": "code",
      "source": [
        "data$V1[1]"
      ],
      "metadata": {
        "id": "mq6rafdyol5w"
      },
      "execution_count": null,
      "outputs": []
    },
    {
      "cell_type": "code",
      "source": [
        "trial <- data[[1]]"
      ],
      "metadata": {
        "id": "1CfchOy8onkB"
      },
      "execution_count": null,
      "outputs": []
    },
    {
      "cell_type": "code",
      "source": [
        "trial[1]"
      ],
      "metadata": {
        "id": "NJ1OMu7PoqH-"
      },
      "execution_count": null,
      "outputs": []
    },
    {
      "cell_type": "code",
      "source": [
        "# Now I have gone to ChatGPT for help"
      ],
      "metadata": {
        "id": "VBI4jPxkoriM"
      },
      "execution_count": null,
      "outputs": []
    },
    {
      "cell_type": "markdown",
      "source": [
        "# Then run this to save the .txt in the file paths to all the spectra fid files\n",
        "### This .txt file was made via matlab code called RKI_V4_1_extract_filepaths_better.m in the RKI_V4_1_Dataset_Extraction_GH folder, which is also on GitHub"
      ],
      "metadata": {
        "id": "V05QgRuroudw"
      }
    },
    {
      "cell_type": "code",
      "source": [
        "# Specify the path to your .txt file\n",
        "file_path_for_txt <- \"C:\\\\Users\\\\Ashley Hanna\\\\Desktop\\\\Data\\\\RKI_V4_1_Dataset_Extraction_GH\\\\RKI_V4_1_analyses_filepaths.txt\""
      ],
      "metadata": {
        "id": "X72PQrLhos4U"
      },
      "execution_count": null,
      "outputs": []
    },
    {
      "cell_type": "markdown",
      "source": [
        "## Run this to read that .txt file into a dataframe"
      ],
      "metadata": {
        "id": "mzqHHaPeo2ZA"
      }
    },
    {
      "cell_type": "code",
      "source": [
        "# Read the file. Assuming the file paths are in the first column and are tab-delimited.\n",
        "file_paths_df <- read.table(file_path_for_txt, sep = \"\\t\", header = FALSE, colClasses = \"character\")"
      ],
      "metadata": {
        "id": "EXlT3pt5o1sm"
      },
      "execution_count": null,
      "outputs": []
    },
    {
      "cell_type": "markdown",
      "source": [
        "## Run this to convert that df to a matrix"
      ],
      "metadata": {
        "id": "8Iu5zvVpo55c"
      }
    },
    {
      "cell_type": "code",
      "source": [
        "# Now, convert the data frame to a matrix. We're assuming you only need the first column.\n",
        "file_paths_matrix <- as.matrix(file_paths_df[, 1, drop = FALSE])"
      ],
      "metadata": {
        "id": "ylZmZnoLo7jm"
      },
      "execution_count": null,
      "outputs": []
    },
    {
      "cell_type": "markdown",
      "source": [
        "## Run this to check that the matrix is right"
      ],
      "metadata": {
        "id": "AhpCbaYyo_VC"
      }
    },
    {
      "cell_type": "code",
      "source": [
        "head(file_paths_matrix)"
      ],
      "metadata": {
        "id": "_x7Qovw9o9ud"
      },
      "execution_count": null,
      "outputs": []
    },
    {
      "cell_type": "code",
      "source": [
        "file_paths_matrix[1]"
      ],
      "metadata": {
        "id": "vy-s3mDqpB8r"
      },
      "execution_count": null,
      "outputs": []
    },
    {
      "cell_type": "code",
      "source": [
        "test <- readBrukerFlexFile(file_paths_matrix[1])"
      ],
      "metadata": {
        "id": "HqoLyc1NpDTS"
      },
      "execution_count": null,
      "outputs": []
    },
    {
      "cell_type": "code",
      "source": [
        "head(test)"
      ],
      "metadata": {
        "id": "Dr0Ndgx5pEd7"
      },
      "execution_count": null,
      "outputs": []
    },
    {
      "cell_type": "code",
      "source": [
        "test_df <- data.frame(Mass=test$spectrum$mass, Intensity=test$spectrum$intensity)"
      ],
      "metadata": {
        "id": "JctAMMACpFvn"
      },
      "execution_count": null,
      "outputs": []
    },
    {
      "cell_type": "code",
      "source": [
        "head(test_df)"
      ],
      "metadata": {
        "id": "_rquJkO3pHyv"
      },
      "execution_count": null,
      "outputs": []
    },
    {
      "cell_type": "code",
      "source": [
        "write.table(test_df, file = \"test_MZ_extracted.txt\", row.names = FALSE, col.names = FALSE, quote = FALSE)\n"
      ],
      "metadata": {
        "id": "UygR1PsOpJK5"
      },
      "execution_count": null,
      "outputs": []
    },
    {
      "cell_type": "code",
      "source": [
        "#counter = 0\n",
        "\n",
        "# Loop through each file path in the matrix\n",
        "for (i in 1:nrow(file_paths_matrix)) {\n",
        "    # Access the file path at the current index\n",
        "    current_path <- file_paths_matrix[i]\n",
        "\n",
        "    counter = counter + 1\n",
        "\n",
        "}\n",
        "\n",
        "#print(counter)"
      ],
      "metadata": {
        "id": "_j7vYPU7pKWs"
      },
      "execution_count": null,
      "outputs": []
    },
    {
      "cell_type": "code",
      "source": [
        "# TEST from ChatGPT\n",
        "\n",
        "# Updated script to handle variable endings like \"0_E19\", \"0_E20\", \"0_C7\", etc.\n",
        "\n",
        "# Example file paths vector\n",
        "file_paths_vector <- c(\n",
        "  'C:\\\\Users\\\\Ashley Hanna\\\\Desktop\\\\Data\\\\RKI_V4_1\\\\Database_OG\\\\Achromobacter\\\\Achromobacter xylosoxidans\\\\Achromobacter xylosoxidans Ax 247 06\\\\Messung 1\\\\0_E19\\\\1\\\\1SLin\\\\fid',\n",
        "  'C:\\\\Users\\\\Ashley Hanna\\\\Desktop\\\\Data\\\\RKI_V4_1\\\\Database_OG\\\\AnotherBacter\\\\Another xylosoxidans\\\\Another xylosoxidans Ax 123 45\\\\Messung 2\\\\0_E20\\\\2\\\\2SLin\\\\fid',\n",
        "  'C:\\\\Users\\\\Ashley Hanna\\\\Desktop\\\\Data\\\\RKI_V4_1\\\\Database_OG\\\\ThirdBacter\\\\Third xylosoxidans\\\\Third xylosoxidans Ax 789 10\\\\Messung 3\\\\0_C7\\\\3\\\\3SLin\\\\fid'\n",
        ")\n",
        "\n",
        "# Initialize an empty vector to store the extracted parts\n",
        "extracted_parts <- character(length(file_paths_vector))\n",
        "\n",
        "# Loop through the file paths\n",
        "for (i in 1:length(file_paths_vector)) {\n",
        "  # Split the current path into components\n",
        "  path_components <- strsplit(file_paths_vector[i], \"\\\\\\\\\")[[1]]\n",
        "\n",
        "  # Look for the pattern that matches \"Messung\" followed by a segment like \"0_E19\", \"0_E20\", \"0_C7\", etc.\n",
        "  pattern_index <- grep(\"Messung\", path_components)\n",
        "  if (length(pattern_index) == 0) next  # Skip if \"Messung\" is not found\n",
        "\n",
        "  # Assuming the segment of interest is 3 steps back from \"Messung\"\n",
        "  start_index <- pattern_index - 3\n",
        "  if (start_index < 1) start_index <- 1  # Ensure start index is not less than 1\n",
        "\n",
        "  # The end index is now dynamic, looking for the pattern matching \"0_XY\", where X is a digit and Y is alphanumeric\n",
        "  # This requires inspecting elements after \"Messung\" for the pattern\n",
        "  end_index <- pattern_index\n",
        "  for(j in (pattern_index + 1):length(path_components)){\n",
        "    if(grepl(\"^0_[A-Z0-9]+\", path_components[j])){\n",
        "      end_index <- j\n",
        "      break\n",
        "    }\n",
        "  }\n",
        "\n",
        "  # Reconstruct the desired path segment\n",
        "  desired_segment <- paste(path_components[start_index:end_index], collapse = \"\\\\\")\n",
        "\n",
        "  # Store the extracted part\n",
        "  extracted_parts[i] <- desired_segment\n",
        "}\n",
        "\n",
        "# Print the extracted parts to verify\n",
        "print(extracted_parts)\n",
        "\n",
        "# Save the extracted parts to a .txt file\n",
        "write.table(extracted_parts, file = \"extracted_file_paths_variable_endings.txt\", row.names = FALSE, col.names = FALSE, quote = FALSE)\n"
      ],
      "metadata": {
        "id": "EV2sDam2pLv5"
      },
      "execution_count": null,
      "outputs": []
    },
    {
      "cell_type": "code",
      "source": [
        "getwd()"
      ],
      "metadata": {
        "id": "8SkbY12JpMvj"
      },
      "execution_count": null,
      "outputs": []
    },
    {
      "cell_type": "code",
      "source": [
        "jupyter notebook --NotebookApp.iopub_data_rate_limit=1.0e10\n",
        "\n",
        "# this had to be run in the anaconda terminal, which you open by going to anaconda naviagtor -> clicking environments ->\n",
        "# going to the one you are in currently (base for this rn) -> hit the play button and then click open terminal"
      ],
      "metadata": {
        "id": "OwMfMTYjpOda"
      },
      "execution_count": null,
      "outputs": []
    },
    {
      "cell_type": "markdown",
      "source": [
        "# Run this script to grab all the names from files to use later"
      ],
      "metadata": {
        "id": "7kdvBUqVpRgM"
      }
    },
    {
      "cell_type": "code",
      "source": [
        "# REAL SCRIPT\n",
        "\n",
        "# Updated script to handle variable endings like \"0_E19\", \"0_E20\", \"0_C7\", etc.\n",
        "\n",
        "# Initialize an empty vector to store the extracted parts\n",
        "extracted_parts <- character(length(file_paths_matrix))\n",
        "\n",
        "# Loop through the file paths\n",
        "for (i in 1:length(file_paths_matrix)) {\n",
        "    # Split the current path into components\n",
        "    path_components <- strsplit(file_paths_matrix[i], \"\\\\\\\\\")[[1]]\n",
        "\n",
        "    # Look for the pattern that matches \"Messung\" followed by a segment like \"0_E19\", \"0_E20\", \"0_C7\", etc.\n",
        "    pattern_index <- grep(\"Messung\", path_components)\n",
        "    if (length(pattern_index) == 0) next  # Skip if \"Messung\" is not found\n",
        "\n",
        "    # Assuming the segment of interest is 3 steps back from \"Messung\"\n",
        "    start_index <- pattern_index - 3\n",
        "    if (start_index < 1) start_index <- 1  # Ensure start index is not less than 1\n",
        "\n",
        "    # The end index is now dynamic, looking for the pattern matching \"0_XY\", where X is a digit and Y is alphanumeric\n",
        "    # This requires inspecting elements after \"Messung\" for the pattern\n",
        "    end_index <- pattern_index\n",
        "    for(j in (pattern_index + 1):length(path_components)){\n",
        "        if(grepl(\"^0_[A-Z0-9]+\", path_components[j])){\n",
        "            end_index <- j\n",
        "            break\n",
        "        }\n",
        "    }\n",
        "\n",
        "    # Reconstruct the desired path segment\n",
        "    desired_segment <- paste(path_components[start_index:end_index], collapse = \"\\\\\")\n",
        "\n",
        "    # Store the extracted part\n",
        "    extracted_parts[i] <- desired_segment\n",
        "\n",
        "    # I am going to save the data fram of the masses in the first col and intensities in the second as a txt\n",
        "    # I am going to name the txt desired_segment\n",
        "    # Hopefully that won't break the naming in windows\n",
        "\n",
        "    #current_spectrum_extracted <- readBrukerFlexFile(file_paths_matrix[i])\n",
        "\n",
        "    #current_MZ_df <- data.frame(Mass=current_spectrum_extracted$spectrum$mass, Intensity=current_spectrum_extracted$spectrum$intensity)\n",
        "\n",
        "    #temp_file_name <- paste0(desired_segment, \".txt\")\n",
        "\n",
        "    #write.table(current_MZ_df, file = temp_file_name, sep = \"\\t\", row.names = FALSE, col.names = FALSE, quote = FALSE)\n",
        "\n",
        "}\n",
        "\n",
        "# Print the extracted parts to verify\n",
        "print(extracted_parts)\n",
        "\n",
        "# Save the extracted parts to a .txt file\n",
        "write.table(extracted_parts, file = \"extracted_file_paths_variable_endings.txt\", sep = \"\\t\", row.names = FALSE, col.names = FALSE, quote = FALSE)\n",
        "\n",
        "################################################################\n",
        "\n"
      ],
      "metadata": {
        "id": "bETPQnqOpP06"
      },
      "execution_count": null,
      "outputs": []
    },
    {
      "cell_type": "markdown",
      "source": [
        "# Run this to convert all of the backslashes to underscores"
      ],
      "metadata": {
        "id": "I4XZwX7CpW0f"
      }
    },
    {
      "cell_type": "code",
      "source": [
        "# changing the slashes to underscore\n",
        "\n",
        "\n",
        "# Initialize an empty vector to store the modified file names\n",
        "modified_file_names <- character(length(extracted_parts))\n",
        "\n",
        "# Loop through the extracted parts\n",
        "for (i in 1:length(extracted_parts)) {\n",
        "  # Replace backslashes with underscores\n",
        "  modified_file_names[i] <- gsub(\"\\\\\\\\\", \"_\", extracted_parts[i])\n",
        "\n",
        "  # Add \".txt\" extension\n",
        "  modified_file_names[i] <- paste0(modified_file_names[i], \".txt\")\n",
        "}\n",
        "\n",
        "# Optionally, print the modified file names to verify\n",
        "print(modified_file_names)\n",
        "\n",
        "# Save the modified file names to a .txt file\n",
        "write.table(modified_file_names, file = \"modified_file_names.txt\", row.names = FALSE, col.names = FALSE, quote = FALSE)"
      ],
      "metadata": {
        "id": "HZG7joVepUvs"
      },
      "execution_count": null,
      "outputs": []
    },
    {
      "cell_type": "code",
      "source": [
        "test2 <- readBrukerFlexFile(file_paths_matrix[1])\n",
        "head(test2)"
      ],
      "metadata": {
        "id": "-S2DiTSCpZ4z"
      },
      "execution_count": null,
      "outputs": []
    },
    {
      "cell_type": "code",
      "source": [
        "test_MZ_df <- data.frame(Mass=test2$spectrum$mass, Intensity=test2$spectrum$intensity)\n",
        "head(test_MZ_df)"
      ],
      "metadata": {
        "id": "jEcepz0Vpbjj"
      },
      "execution_count": null,
      "outputs": []
    },
    {
      "cell_type": "code",
      "source": [
        "# use modified_file_names to grab name\n",
        "write.table(test_MZ_df, file = modified_file_names[1], row.names = FALSE, col.names = FALSE, quote = FALSE)"
      ],
      "metadata": {
        "id": "hAtt6WWQpctg"
      },
      "execution_count": null,
      "outputs": []
    },
    {
      "cell_type": "markdown",
      "source": [
        "# Run this to extact all the m/z vs I data and save that as a .txt file named by indexing the name from the file of shortened file path names created above\n",
        "### These will be saved at Local Disk C: -> Users -> Ashley Hanna"
      ],
      "metadata": {
        "id": "lKydfmIgpeHJ"
      }
    },
    {
      "cell_type": "code",
      "source": [
        "# I could use this txt and just index to grab the right name\n",
        "\n",
        "# Loop through the file paths\n",
        "for (i in 1:length(file_paths_matrix)) {\n",
        "\n",
        "    # Extract the data from the current file path spectrum\n",
        "    temp_extracted_spectrum <- readBrukerFlexFile(file_paths_matrix[i])\n",
        "\n",
        "    # convert to a dataframe and save only the mass vs intensity data\n",
        "    temp_MZ_df <- data.frame(Mass=temp_extracted_spectrum$spectrum$mass, Intensity=temp_extracted_spectrum$spectrum$intensity)\n",
        "\n",
        "    # save the mass vs int data as a .txt with a file name that is the file full microbe name with which measurement it is\n",
        "    write.table(temp_MZ_df, file = modified_file_names[i], row.names = FALSE, col.names = FALSE, quote = FALSE)\n",
        "}"
      ],
      "metadata": {
        "id": "FEz100vBpgJd"
      },
      "execution_count": null,
      "outputs": []
    },
    {
      "cell_type": "code",
      "source": [
        "a <- \"\\\\Achromobacter xylosoxidans ssp. xylosoxidans DSM 2402\\\\\\\\Messung 1\\\\\\\\0_F3\""
      ],
      "metadata": {
        "id": "T9mI4ZCxphPB"
      },
      "execution_count": null,
      "outputs": []
    },
    {
      "cell_type": "code",
      "source": [
        "a"
      ],
      "metadata": {
        "id": "D5dDN5mLpiY5"
      },
      "execution_count": null,
      "outputs": []
    },
    {
      "cell_type": "code",
      "source": [
        "a <- paste0(a, \".txt\")"
      ],
      "metadata": {
        "id": "BfmGjYLgpkyn"
      },
      "execution_count": null,
      "outputs": []
    },
    {
      "cell_type": "code",
      "source": [
        "a"
      ],
      "metadata": {
        "id": "mnGSVuRLplO9"
      },
      "execution_count": null,
      "outputs": []
    }
  ]
}